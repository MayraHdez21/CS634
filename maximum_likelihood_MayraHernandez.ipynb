{
 "cells": [
  {
   "cell_type": "markdown",
   "metadata": {
    "id": "TnAHzuk-fygI"
   },
   "source": [
    "# Maximum Likelihood Method\n",
    "\n"
   ]
  },
  {
   "cell_type": "markdown",
   "metadata": {
    "id": "qJgvCczRqlkV"
   },
   "source": [
    "Lets start with a simple Gaussian distribution. "
   ]
  },
  {
   "cell_type": "code",
   "execution_count": 22,
   "metadata": {
    "colab": {
     "base_uri": "https://localhost:8080/",
     "height": 282
    },
    "id": "v1aNtafG0qKQ",
    "outputId": "c6107df6-88c2-4d19-c832-2c04e609f1fa"
   },
   "outputs": [
    {
     "data": {
      "text/plain": [
       "[<matplotlib.lines.Line2D at 0x189f12cd1f0>]"
      ]
     },
     "execution_count": 22,
     "metadata": {},
     "output_type": "execute_result"
    },
    {
     "data": {
      "image/png": "[encoded data removed]",
      "text/plain": [
       "<Figure size 432x288 with 1 Axes>"
      ]
     },
     "metadata": {
      "needs_background": "light"
     },
     "output_type": "display_data"
    }
   ],
   "source": [
    "import numpy as np\n",
    "from scipy.stats import norm\n",
    "import matplotlib.pyplot as plt\n",
    "fig, ax = plt.subplots(1, 1)\n",
    "x = np.linspace(norm.ppf(0.01),\n",
    "                norm.ppf(0.99), 100)\n",
    "ax.plot(x, norm.pdf(x),\n",
    "       'r-', lw=5, alpha=0.6, label='norm pdf')"
   ]
  },
  {
   "cell_type": "markdown",
   "metadata": {
    "id": "3DmWU03fq_G-"
   },
   "source": [
    "We can retrieve the probability of events happening, e.g. x=3.0"
   ]
  },
  {
   "cell_type": "code",
   "execution_count": 23,
   "metadata": {
    "id": "cmOBUIzN2GuZ"
   },
   "outputs": [],
   "source": [
    "p_3 = norm.pdf(3.0, 5.0, 3.0)"
   ]
  },
  {
   "cell_type": "markdown",
   "metadata": {
    "id": "8Jt3N5AgrPZh"
   },
   "source": [
    "We can also easily calculate the joint probability of iid (indepenent and identically distributed) events "
   ]
  },
  {
   "cell_type": "code",
   "execution_count": 24,
   "metadata": {
    "id": "PQ8AYhYt2-9p"
   },
   "outputs": [],
   "source": [
    "p_7 = norm.pdf(7.0, 7.0, 3.0)\n",
    "\n",
    "joint = p_3*p_7"
   ]
  },
  {
   "cell_type": "markdown",
   "metadata": {
    "id": "c5GY7PmgrtEq"
   },
   "source": [
    "Assume now that someone is giving us an array of values and ask us to estimate a $p_{model}$ that is a 'good fit' to the gievn data. How we can go about solving this problem with Maximum Likelihood Estimation (MLE)? Notice that as addressed in [3], probability and likelihood have a reverse relationship.  Probability attaches to possible results; likelihood attaches to hypotheses. The likelihood function gives the relative likelihoods of different values for the parameter(s) of the distribution from which the data are assumed to have been drawn, given those data.\n",
    "\n",
    "Lets plot a couple of $p_{model}$ hypotheses - the data are shown below in the same plot. Both hypotheses are plausible.  "
   ]
  },
  {
   "cell_type": "code",
   "execution_count": 25,
   "metadata": {
    "colab": {
     "base_uri": "https://localhost:8080/",
     "height": 282
    },
    "id": "JLNGc_GI3X7B",
    "outputId": "f6a7572f-1794-4c5c-f42f-3c249e620f6b"
   },
   "outputs": [
    {
     "data": {
      "text/plain": [
       "[<matplotlib.lines.Line2D at 0x189f29e5a60>]"
      ]
     },
     "execution_count": 25,
     "metadata": {},
     "output_type": "execute_result"
    },
    {
     "data": {
      "image/png": "[encoded data removed]",
      "text/plain": [
       "<Figure size 432x288 with 1 Axes>"
      ]
     },
     "metadata": {
      "needs_background": "light"
     },
     "output_type": "display_data"
    }
   ],
   "source": [
    "data = [4, 5, 7, 8, 8, 9, 10, 5, 2, 3, 5, 4, 8, 9]\n",
    "\n",
    "fig, ax = plt.subplots(1, 1)\n",
    "x = np.linspace(0, 20, 100)\n",
    "ax.plot(x, norm.pdf(x,5,3),\n",
    "       'r-', lw=5, alpha=0.6, label='norm pdf')\n",
    "ax.plot(x, norm.pdf(x,7,3),\n",
    "       'b-', lw=5, alpha=0.6, label='norm pdf')\n",
    "ax.plot(data, np.zeros(len(data)).tolist(),'o')"
   ]
  },
  {
   "cell_type": "markdown",
   "metadata": {
    "id": "-vmuSc_UshjC"
   },
   "source": [
    "As detailed in Ref [2], its important to safeguard against underflow that may well result from multiplying many numbers (for large datasets) that are less than 1.0 (probabilities). So we do the calculations in the log domain using the identity\n",
    "\n",
    "$$log(a \\times b)=log(a) + log(b)$$"
   ]
  },
  {
   "cell_type": "markdown",
   "metadata": {
    "id": "LOTKDRSMtb-r"
   },
   "source": [
    "Lets look at a function that calculates the log-likelihood for the two hypotheses above given the data denoted by $x$. "
   ]
  },
  {
   "cell_type": "code",
   "execution_count": 26,
   "metadata": {
    "id": "8OJewE_D2aA9"
   },
   "outputs": [],
   "source": [
    "def compare_data_to_dist(x, mu_1=5, mu_2=7, sd_1=3, sd_2=3):\n",
    "    ll_1 = 0\n",
    "    ll_2 = 0\n",
    "    for i in x:\n",
    "        ll_1 += np.log(norm.pdf(i, mu_1, sd_1))\n",
    "        ll_2 += np.log(norm.pdf(i, mu_2, sd_2))\n",
    "    \n",
    "    print(\"The LL of of x for mu = %d and sd = %d is: %.4f\" % (mu_1, sd_1, ll_1))\n",
    "    print(\"The LL of of x for mu = %d and sd = %d is: %.4f\" % (mu_2, sd_2, ll_2))\n"
   ]
  },
  {
   "cell_type": "markdown",
   "metadata": {
    "id": "fxXoRssGt4Bu"
   },
   "source": [
    "We can readily compate the two hypotheses according to the maximum likelihood criterion. Note that because the $log$ is a monotonic function, the conclusion as to which hypothesis makes the data more likely is the same in the natural or the $log$ domain. "
   ]
  },
  {
   "cell_type": "code",
   "execution_count": 27,
   "metadata": {
    "colab": {
     "base_uri": "https://localhost:8080/"
    },
    "id": "g5jQmd1b5h3a",
    "outputId": "a4ba2a53-40c9-42f9-97c6-52455d13f73c"
   },
   "outputs": [
    {
     "name": "stdout",
     "output_type": "stream",
     "text": [
      "The LL of of x for mu = 5 and sd = 3 is: -33.9679\n",
      "The LL of of x for mu = 7 and sd = 3 is: -33.3013\n"
     ]
    }
   ],
   "source": [
    "ll_comparison = compare_data_to_dist(data)"
   ]
  },
  {
   "cell_type": "markdown",
   "metadata": {
    "id": "2gPAwYpxu4fc"
   },
   "source": [
    "It seems that the second hypothesis \n",
    "\n",
    "$$p_{model}(x|\\mathbf{w}) = N(x | [\\mu_2, \\sigma_2^2])$$\n",
    "\n",
    "is preferred compared to the first. "
   ]
  },
  {
   "cell_type": "markdown",
   "metadata": {
    "id": "eKwCRfyh_FgY"
   },
   "source": [
    "We can now start searching the hypothesis space (parameter space) for the best parameter set $\\mathbf w$. "
   ]
  },
  {
   "cell_type": "code",
   "execution_count": 28,
   "metadata": {
    "colab": {
     "base_uri": "https://localhost:8080/",
     "height": 598
    },
    "id": "uw-K6S7A7mqA",
    "outputId": "d5bb47cf-5a1b-4c53-9e65-5401fb18d689"
   },
   "outputs": [
    {
     "name": "stdout",
     "output_type": "stream",
     "text": [
      "The max LL for sd 0.50 is 167.88\n",
      "The max LL for sd 1.50 is 36.84\n",
      "The max LL for sd 2.50 is 32.28\n",
      "The max LL for sd 3.50 is 33.77\n",
      "The max LL for sd 4.50 is 35.96\n"
     ]
    },
    {
     "data": {
      "image/png": "[encoded data removed]",
      "text/plain": [
       "<Figure size 360x576 with 1 Axes>"
      ]
     },
     "metadata": {
      "needs_background": "light"
     },
     "output_type": "display_data"
    }
   ],
   "source": [
    "# Plot the Negative Log Likelihood Functions for different values of mu \n",
    "# and sigma\n",
    "def plot_ll(x):\n",
    "    plt.figure(figsize=(5,8))\n",
    "    plt.title(\"Neg Log Likelihood Functions\")\n",
    "    plt.xlabel(\"Mean Estimate\")\n",
    "    plt.ylabel(\"Neg Log Likelihood\")\n",
    "    plt.ylim(30, 60)\n",
    "    plt.xlim(0, 12)\n",
    "    mu_set = np.linspace(0, 16, 1000)\n",
    "    sd_set = [.5, 1.5, 2.5, 3.5, 4.5]\n",
    "    max_val = max_val_location = None\n",
    "    for i in sd_set:\n",
    "        ll_array = []\n",
    "        \n",
    "        for j in mu_set:\n",
    "            temp_mm = 0\n",
    "            \n",
    "            for k in x:\n",
    "                temp_mm += np.log(norm.pdf(k, j, i)) # The LL function\n",
    "            ll_array.append(-temp_mm) # negative LL\n",
    "        \n",
    "            if (max_val is None):\n",
    "                max_val = min(ll_array)\n",
    "            elif max(ll_array) > max_val:\n",
    "                max_val = min(ll_array)\n",
    "                max_val_location = j\n",
    "        \n",
    "        # Plot the results\n",
    "        plt.plot(mu_set, ll_array, label=\"sd: %.1f\" % i)\n",
    "        \n",
    "        print(\"The max LL for sd %.2f is %.2f\" % (i, min(ll_array)))    \n",
    "    plt.axvline(x=max_val_location, color='black', ls='-.')\n",
    "    plt.legend(loc='lower left')\n",
    "plot_ll(data);\n"
   ]
  },
  {
   "cell_type": "markdown",
   "metadata": {
    "id": "fxNMqYYIvi3a"
   },
   "source": [
    "But there is a better method than exhaustively searching in the parameter space. We developed a method that incrementally minimizes a loss function that is ultimately linked to the concept of entropy - the cross entropy (CE) that for the supervided learning problem as shown in the notes has a lot to do with minimizing the KL divergence - a type of probabilistic 'distance' between $\\hat p_{data}$ and $p_{model}$. \n",
    "\n",
    "This method is the Stochastic Gradient Descent. Can ypu estimate the hypothesis for the `data` array above? "
   ]
  },
  {
   "cell_type": "code",
   "execution_count": 41,
   "metadata": {
    "id": "HBv1r6OGQ6WS"
   },
   "outputs": [],
   "source": [
    "def get_weights(x, y, verbose = 0):\n",
    "    shape = x.shape\n",
    "    x = np.insert(x, 0, 1, axis=1)\n",
    "    w = np.ones((shape[1]+1,))\n",
    "    weights = []\n",
    "\n",
    "    learning_rate = 10\n",
    "    iteration = 10\n",
    "    loss = None\n",
    "    while iteration <= 1000 and loss != 0:\n",
    "        for ix, i in enumerate(x):\n",
    "            pred = np.dot(i,w)\n",
    "            if pred > 0: pred = 1\n",
    "            elif pred < 0: pred = -1\n",
    "            if pred != y[ix]:\n",
    "                w = w - learning_rate * pred * i\n",
    "            weights.append(w)    \n",
    "            if verbose == 1:\n",
    "                print('X_i = ', i, '    y = ', y[ix])\n",
    "                print('Pred: ', pred )\n",
    "                print('Weights', w)\n",
    "                print('------------------------------------------')\n",
    "\n",
    "\n",
    "        loss = np.dot(x, w)\n",
    "        loss[loss<0] = -1\n",
    "        loss[loss>0] = 1\n",
    "        loss = np.sum(loss - y )\n",
    "\n",
    "        if verbose == 1:\n",
    "            print('------------------------------------------')\n",
    "            print(np.sum(loss - y ))\n",
    "            print('------------------------------------------')\n",
    "        if iteration%10 == 0: learning_rate = learning_rate / 2\n",
    "        iteration += 1    \n",
    "    print('Weights: ', w)\n",
    "    print('Loss: ', loss)\n",
    "    return w, weights"
   ]
  },
  {
   "cell_type": "markdown",
   "metadata": {
    "id": "7tqGhdCXQjKa"
   },
   "source": [
    "You are given a problem that involves the relationship between $x$ and $y$. Estimate the parameters of a $p_{model}$ that fit the dataset (x,y) shown below.  "
   ]
  },
  {
   "cell_type": "code",
   "execution_count": 42,
   "metadata": {
    "id": "QC-bK31Qgdc_"
   },
   "outputs": [
    {
     "name": "stdout",
     "output_type": "stream",
     "text": [
      "[[ 1.  8.]\n",
      " [ 1. 16.]\n",
      " [ 1. 22.]\n",
      " [ 1. 33.]\n",
      " [ 1. 50.]\n",
      " [ 1. 51.]]\n"
     ]
    },
    {
     "ename": "ValueError",
     "evalue": "X has 2 features, but this StandardScaler is expecting 1 features as input.",
     "output_type": "error",
     "traceback": [
      "\u001b[1;31m---------------------------------------------------------------------------\u001b[0m",
      "\u001b[1;31mValueError\u001b[0m                                Traceback (most recent call last)",
      "\u001b[1;32m<ipython-input-42-e9fbec0273a0>\u001b[0m in \u001b[0;36m<module>\u001b[1;34m\u001b[0m\n\u001b[0;32m     13\u001b[0m \u001b[0mX_b\u001b[0m \u001b[1;33m=\u001b[0m \u001b[0mnp\u001b[0m\u001b[1;33m.\u001b[0m\u001b[0mc_\u001b[0m\u001b[1;33m[\u001b[0m\u001b[0mnp\u001b[0m\u001b[1;33m.\u001b[0m\u001b[0mones\u001b[0m\u001b[1;33m(\u001b[0m\u001b[1;33m(\u001b[0m\u001b[0mm\u001b[0m\u001b[1;33m,\u001b[0m \u001b[1;36m1\u001b[0m\u001b[1;33m)\u001b[0m\u001b[1;33m)\u001b[0m\u001b[1;33m,\u001b[0m \u001b[0mx\u001b[0m\u001b[1;33m]\u001b[0m\u001b[1;33m\u001b[0m\u001b[1;33m\u001b[0m\u001b[0m\n\u001b[0;32m     14\u001b[0m \u001b[0mprint\u001b[0m\u001b[1;33m(\u001b[0m\u001b[0mX_b\u001b[0m\u001b[1;33m)\u001b[0m\u001b[1;33m\u001b[0m\u001b[1;33m\u001b[0m\u001b[0m\n\u001b[1;32m---> 15\u001b[1;33m \u001b[0mX_b\u001b[0m \u001b[1;33m=\u001b[0m \u001b[0mscaler_x\u001b[0m\u001b[1;33m.\u001b[0m\u001b[0mtransform\u001b[0m\u001b[1;33m(\u001b[0m\u001b[0mX_b\u001b[0m\u001b[1;33m)\u001b[0m\u001b[1;33m\u001b[0m\u001b[1;33m\u001b[0m\u001b[0m\n\u001b[0m\u001b[0;32m     16\u001b[0m \u001b[0mprint\u001b[0m\u001b[1;33m(\u001b[0m\u001b[0mX_b\u001b[0m\u001b[1;33m)\u001b[0m\u001b[1;33m\u001b[0m\u001b[1;33m\u001b[0m\u001b[0m\n\u001b[0;32m     17\u001b[0m \u001b[0my\u001b[0m \u001b[1;33m=\u001b[0m \u001b[0mscaler_y\u001b[0m\u001b[1;33m.\u001b[0m\u001b[0mtransform\u001b[0m\u001b[1;33m(\u001b[0m\u001b[0my\u001b[0m\u001b[1;33m)\u001b[0m\u001b[1;33m\u001b[0m\u001b[1;33m\u001b[0m\u001b[0m\n",
      "\u001b[1;32m~\\Anaconda3\\lib\\site-packages\\sklearn\\preprocessing\\_data.py\u001b[0m in \u001b[0;36mtransform\u001b[1;34m(self, X, copy)\u001b[0m\n\u001b[0;32m    789\u001b[0m \u001b[1;33m\u001b[0m\u001b[0m\n\u001b[0;32m    790\u001b[0m         \u001b[0mcopy\u001b[0m \u001b[1;33m=\u001b[0m \u001b[0mcopy\u001b[0m \u001b[1;32mif\u001b[0m \u001b[0mcopy\u001b[0m \u001b[1;32mis\u001b[0m \u001b[1;32mnot\u001b[0m \u001b[1;32mNone\u001b[0m \u001b[1;32melse\u001b[0m \u001b[0mself\u001b[0m\u001b[1;33m.\u001b[0m\u001b[0mcopy\u001b[0m\u001b[1;33m\u001b[0m\u001b[1;33m\u001b[0m\u001b[0m\n\u001b[1;32m--> 791\u001b[1;33m         X = self._validate_data(X, reset=False,\n\u001b[0m\u001b[0;32m    792\u001b[0m                                 \u001b[0maccept_sparse\u001b[0m\u001b[1;33m=\u001b[0m\u001b[1;34m'csr'\u001b[0m\u001b[1;33m,\u001b[0m \u001b[0mcopy\u001b[0m\u001b[1;33m=\u001b[0m\u001b[0mcopy\u001b[0m\u001b[1;33m,\u001b[0m\u001b[1;33m\u001b[0m\u001b[1;33m\u001b[0m\u001b[0m\n\u001b[0;32m    793\u001b[0m                                 \u001b[0mestimator\u001b[0m\u001b[1;33m=\u001b[0m\u001b[0mself\u001b[0m\u001b[1;33m,\u001b[0m \u001b[0mdtype\u001b[0m\u001b[1;33m=\u001b[0m\u001b[0mFLOAT_DTYPES\u001b[0m\u001b[1;33m,\u001b[0m\u001b[1;33m\u001b[0m\u001b[1;33m\u001b[0m\u001b[0m\n",
      "\u001b[1;32m~\\Anaconda3\\lib\\site-packages\\sklearn\\base.py\u001b[0m in \u001b[0;36m_validate_data\u001b[1;34m(self, X, y, reset, validate_separately, **check_params)\u001b[0m\n\u001b[0;32m    434\u001b[0m \u001b[1;33m\u001b[0m\u001b[0m\n\u001b[0;32m    435\u001b[0m         \u001b[1;32mif\u001b[0m \u001b[0mcheck_params\u001b[0m\u001b[1;33m.\u001b[0m\u001b[0mget\u001b[0m\u001b[1;33m(\u001b[0m\u001b[1;34m'ensure_2d'\u001b[0m\u001b[1;33m,\u001b[0m \u001b[1;32mTrue\u001b[0m\u001b[1;33m)\u001b[0m\u001b[1;33m:\u001b[0m\u001b[1;33m\u001b[0m\u001b[1;33m\u001b[0m\u001b[0m\n\u001b[1;32m--> 436\u001b[1;33m             \u001b[0mself\u001b[0m\u001b[1;33m.\u001b[0m\u001b[0m_check_n_features\u001b[0m\u001b[1;33m(\u001b[0m\u001b[0mX\u001b[0m\u001b[1;33m,\u001b[0m \u001b[0mreset\u001b[0m\u001b[1;33m=\u001b[0m\u001b[0mreset\u001b[0m\u001b[1;33m)\u001b[0m\u001b[1;33m\u001b[0m\u001b[1;33m\u001b[0m\u001b[0m\n\u001b[0m\u001b[0;32m    437\u001b[0m \u001b[1;33m\u001b[0m\u001b[0m\n\u001b[0;32m    438\u001b[0m         \u001b[1;32mreturn\u001b[0m \u001b[0mout\u001b[0m\u001b[1;33m\u001b[0m\u001b[1;33m\u001b[0m\u001b[0m\n",
      "\u001b[1;32m~\\Anaconda3\\lib\\site-packages\\sklearn\\base.py\u001b[0m in \u001b[0;36m_check_n_features\u001b[1;34m(self, X, reset)\u001b[0m\n\u001b[0;32m    375\u001b[0m                 )\n\u001b[0;32m    376\u001b[0m             \u001b[1;32mif\u001b[0m \u001b[0mn_features\u001b[0m \u001b[1;33m!=\u001b[0m \u001b[0mself\u001b[0m\u001b[1;33m.\u001b[0m\u001b[0mn_features_in_\u001b[0m\u001b[1;33m:\u001b[0m\u001b[1;33m\u001b[0m\u001b[1;33m\u001b[0m\u001b[0m\n\u001b[1;32m--> 377\u001b[1;33m                 raise ValueError(\n\u001b[0m\u001b[0;32m    378\u001b[0m                     \u001b[1;34m'X has {} features, but this {} is expecting {} features '\u001b[0m\u001b[1;33m\u001b[0m\u001b[1;33m\u001b[0m\u001b[0m\n\u001b[0;32m    379\u001b[0m                     'as input.'.format(n_features, self.__class__.__name__,\n",
      "\u001b[1;31mValueError\u001b[0m: X has 2 features, but this StandardScaler is expecting 1 features as input."
     ]
    }
   ],
   "source": [
    "x = np.array([8, 16, 22, 33, 50, 51])\n",
    "y = np.array([5, 20, 14, 32, 42, 58])\n",
    "\n",
    "# add your code here\n",
    "\n",
    "# we always talk about vector notation as (mx1) in ML\n",
    "x = np.array([[8, 16, 22, 33, 50, 51]]).T\n",
    "y = np.array([[5, 20, 14, 32, 42, 58]]).T\n",
    "from sklearn import preprocessing\n",
    "scaler_x = preprocessing.StandardScaler().fit(x)\n",
    "scaler_y = preprocessing.StandardScaler().fit(y)\n",
    "m = len(x)\n",
    "X_b = np.c_[np.ones((m, 1)), x]\n",
    "print(X_b)\n",
    "X_b = scaler_x.transform(X_b)\n",
    "print(X_b)\n",
    "y = scaler_y.transform(y)\n",
    "print(y)\n",
    "# MLE estimate (closed formula is possible for tiny datasets)\n",
    "w_MLE = np.linalg.inv(X_b.T.dot(X_b)).dot(X_b.T).dot(y)\n",
    "print('w_MLE = ', w_MLE)\n",
    "plt.plot(X_b[:,1], y, \"b.\")\n",
    "X_new = np.array([[-2], [2]])\n",
    "X_new_b = np.c_[np.ones((2, 1)), X_new]\n",
    "y_predict = X_new_b.dot(w_MLE)\n",
    "plt.plot(X_new, y_predict)\n",
    "def plot_gradient_descent(w, eta, w_path=None):\n",
    "    m = len(X_b)\n",
    "    plt.plot(X_b[:,1], y, \"b.\")\n",
    "    n_iterations = 1000\n",
    "    for iteration in range(n_iterations):\n",
    "        if iteration < 10:\n",
    "            y_predict = X_new_b.dot(w)\n",
    "            style = \"b-\" if iteration > 0 else \"r--\"\n",
    "            plt.plot(X_new, y_predict, style)\n",
    "        gradient = np.array([[1,1]])\n",
    "        w = w - eta * gradient\n",
    "        if w_path is not None:\n",
    "            w_path.append(w)\n",
    "    plt.xlabel(\"$x$\", fontsize=18)\n",
    "    plt.title(r\"$\\eta = {}$\".format(eta), fontsize=16)\n",
    "np.random.seed(42) #why?\n",
    "w = np.random.randn(2,1)  # random initialization\n",
    "print('Initial w = ', w)\n",
    "w_path_bgd = []\n",
    "plt.figure(figsize=(10,4)) \n",
    "plot_gradient_descent(w, eta=0.1)\n",
    "plt.ylabel(\"$y$\", rotation=0, fontsize=18)\n",
    "plt.show()"
   ]
  },
  {
   "cell_type": "markdown",
   "metadata": {
    "id": "6BDjtdMFghC5"
   },
   "source": [
    "# References\n",
    "\n",
    "1. https://medium.com/@rrfd/what-is-maximum-likelihood-estimation-examples-in-python-791153818030\n",
    "2. [Section 4.1 - Numerical computation](https://www.deeplearningbook.org/contents/numerical.html)\n",
    "3. [Bayes for beginners - probability and likelihood](https://www.psychologicalscience.org/observer/bayes-for-beginners-probability-and-likelihood) "
   ]
  }
 ],
 "metadata": {
  "colab": {
   "name": "maximum_likelihood.ipynb",
   "provenance": []
  },
  "kernelspec": {
   "display_name": "Python 3",
   "language": "python",
   "name": "python3"
  },
  "language_info": {
   "codemirror_mode": {
    "name": "ipython",
    "version": 3
   },
   "file_extension": ".py",
   "mimetype": "text/x-python",
   "name": "python",
   "nbconvert_exporter": "python",
   "pygments_lexer": "ipython3",
   "version": "3.8.5"
  }
 },
 "nbformat": 4,
 "nbformat_minor": 1
}
